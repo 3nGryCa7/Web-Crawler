{
 "cells": [
  {
   "cell_type": "code",
   "execution_count": 11,
   "metadata": {},
   "outputs": [],
   "source": [
    "# import libraries\n",
    "import pandas as pd\n",
    "import requests\n",
    "from bs4 import BeautifulSoup\n",
    "from selenium import webdriver\n",
    "from selenium.webdriver.common.by import By\n",
    "from selenium.webdriver.common.keys import Keys\n",
    "from selenium.webdriver.support.ui import WebDriverWait\n",
    "from selenium.webdriver.support import expected_conditions as EC\n",
    "from IPython.display import display\n",
    "\n",
    "# from selenium.webdriver.chrome.options import Options\n",
    "# set up browser options (不支援 Edge)\n",
    "# browser_options = Options()\n",
    "# browser_options.add_argument(\"--headless\")  # 啟用 Headless 模式"
   ]
  },
  {
   "attachments": {},
   "cell_type": "markdown",
   "metadata": {},
   "source": [
    "### Preprocessing Method\n",
    "\n",
    "- search_code: stock code user want to search\n",
    "- _query_search: do search for method 'search_code'\n",
    "- beautify_table: make table prettier\n",
    "- get_module: get module according to query of search_code, usually is 'xtai'"
   ]
  },
  {
   "cell_type": "code",
   "execution_count": 2,
   "metadata": {},
   "outputs": [],
   "source": [
    "def search_code(code: str) -> pd.DataFrame:\n",
    "    \"\"\"Function: Search the stock code from Morningstar\"\"\"\n",
    "    \n",
    "    # set search url\n",
    "    url = f'https://www.morningstar.com/search?query={code}'\n",
    "\n",
    "    # get the response in the form of html\n",
    "    response = requests.get(url)\n",
    "\n",
    "    # if response is ok then go ahead and parse the response\n",
    "    if response.status_code == 200:\n",
    "        companys = _query_search(response)\n",
    "    return companys\n",
    "\n",
    "\n",
    "def _query_search(response: requests.models.Response) -> pd.DataFrame:\n",
    "    \"\"\"Function: Parse the response from html into a beautifulsoup object\"\"\"\n",
    "\n",
    "    # parse the response from html into a beautifulsoup object\n",
    "    soup = BeautifulSoup(response.content, 'html.parser')\n",
    "\n",
    "    titles = soup.find_all('a', class_='mdc-link mdc-security-module__name mds-link mds-link--no-underline mdc-link--no-underline')\n",
    "    modules = soup.find_all('span', class_=\"mdc-security-module__exchange\")\n",
    "\n",
    "    # Create lists to store the data\n",
    "    title_list = [title.get_text() for title in titles]\n",
    "    module_list = [module.get_text() for module in modules]\n",
    "\n",
    "    return pd.DataFrame({'Company': title_list, 'Module': module_list})\n",
    "\n",
    "\n",
    "def beautify_table(companys: pd.DataFrame) -> None:\n",
    "    \"\"\"Function: Beautify the table\"\"\"\n",
    "\n",
    "    # 創建 Styler 物件\n",
    "    styler = companys.style\n",
    "\n",
    "    # 設定欄位的文字對齊為置中\n",
    "    styles = [\n",
    "        {'selector': '.col_heading', 'props': [('text-align', 'center')]},\n",
    "        {'selector': '.data', 'props': [('text-align', 'left')]},\n",
    "    ]\n",
    "    styler.set_table_styles(styles)\n",
    "\n",
    "    # 顯示 DataFrame\n",
    "    display(styler)\n",
    "\n",
    "\n",
    "def get_module(companys: pd.DataFrame) -> str:\n",
    "    \"\"\"Function: Get the module\"\"\"\n",
    "\n",
    "    # get the stock module\n",
    "    try: \n",
    "        stock = int(input(\"Enter the company index: \"))\n",
    "        # get the stock code\n",
    "        module = companys.iloc[stock, 1]\n",
    "    except:\n",
    "        raise ValueError(\"Not a number\")\n",
    "\n",
    "    return module.lower()"
   ]
  },
  {
   "attachments": {},
   "cell_type": "markdown",
   "metadata": {},
   "source": [
    "### Get Information"
   ]
  },
  {
   "cell_type": "code",
   "execution_count": 3,
   "metadata": {},
   "outputs": [],
   "source": [
    "def get_valuation(code: str, module:str, driver: webdriver.edge.webdriver.WebDriver) -> pd.DataFrame:\n",
    "    \"\"\"Function: Get the stock quote from Morningstar\"\"\"\n",
    "\n",
    "    # set the url\n",
    "    url = f'https://www.morningstar.com/stocks/{module}/{code}/valuation'\n",
    "\n",
    "    # get into the url\n",
    "    driver.get(url)\n",
    "\n",
    "    # get key statistics\n",
    "    # 不能使用 find_element_by_class_name !!!\n",
    "    key_classes = driver.find_elements(\"css selector\", \".sal-panel-header\")\n",
    "    key_names = driver.find_elements(\"css selector\", \".dp-name\")\n",
    "    key_values = driver.find_elements(\"css selector\", \".dp-value\")\n",
    "\n",
    "    key_class = [key_class.text for key_class in key_classes]\n",
    "    key_names = [key_name.text for key_name in key_names]\n",
    "    key_values = [key_value.text for key_value in key_values]\n",
    "\n",
    "    for i in range(len(key_class)):\n",
    "        print(key_class[i])\n",
    "        beautify_table(pd.DataFrame({'Key': key_names[i*4:(i+1)*4], 'Value': key_values[i*4:(i+1)*4]}))\n",
    "\n",
    "    return pd.DataFrame({'Key': key_names, 'Value': key_values})"
   ]
  },
  {
   "cell_type": "code",
   "execution_count": 4,
   "metadata": {},
   "outputs": [
    {
     "data": {
      "text/html": [
       "<style type=\"text/css\">\n",
       "#T_015c5 .col_heading {\n",
       "  text-align: center;\n",
       "}\n",
       "#T_015c5 .data {\n",
       "  text-align: left;\n",
       "}\n",
       "</style>\n",
       "<table id=\"T_015c5\">\n",
       "  <thead>\n",
       "    <tr>\n",
       "      <th class=\"blank level0\" >&nbsp;</th>\n",
       "      <th id=\"T_015c5_level0_col0\" class=\"col_heading level0 col0\" >Company</th>\n",
       "      <th id=\"T_015c5_level0_col1\" class=\"col_heading level0 col1\" >Module</th>\n",
       "    </tr>\n",
       "  </thead>\n",
       "  <tbody>\n",
       "    <tr>\n",
       "      <th id=\"T_015c5_level0_row0\" class=\"row_heading level0 row0\" >0</th>\n",
       "      <td id=\"T_015c5_row0_col0\" class=\"data row0 col0\" >Taiwan Semiconductor Manufacturing Co Ltd</td>\n",
       "      <td id=\"T_015c5_row0_col1\" class=\"data row0 col1\" >XTAI</td>\n",
       "    </tr>\n",
       "    <tr>\n",
       "      <th id=\"T_015c5_level0_row1\" class=\"row_heading level0 row1\" >1</th>\n",
       "      <td id=\"T_015c5_row1_col0\" class=\"data row1 col0\" >Advanced Petrochemical Co</td>\n",
       "      <td id=\"T_015c5_row1_col1\" class=\"data row1 col1\" >XSAU</td>\n",
       "    </tr>\n",
       "    <tr>\n",
       "      <th id=\"T_015c5_level0_row2\" class=\"row_heading level0 row2\" >2</th>\n",
       "      <td id=\"T_015c5_row2_col0\" class=\"data row2 col0\" >Forside Co Ltd</td>\n",
       "      <td id=\"T_015c5_row2_col1\" class=\"data row2 col1\" >XTKS</td>\n",
       "    </tr>\n",
       "  </tbody>\n",
       "</table>\n"
      ],
      "text/plain": [
       "<pandas.io.formats.style.Styler at 0x1f91e3b0550>"
      ]
     },
     "metadata": {},
     "output_type": "display_data"
    }
   ],
   "source": [
    "# set up the browser\n",
    "driver = webdriver.Edge()\n",
    "\n",
    "# get the stock code\n",
    "stock_code = input(\"Enter the stock code: \")\n",
    "\n",
    "# do the search\n",
    "companys = search_code(stock_code)\n",
    "beautify_table(companys)\n",
    "\n",
    "# get the module\n",
    "module = get_module(companys)"
   ]
  },
  {
   "cell_type": "code",
   "execution_count": 5,
   "metadata": {},
   "outputs": [],
   "source": [
    "# key_statistics = get_valuation(stock_code, module, driver)\n",
    "# key_statistics = beautify_table(key_statistics)     # cannot put two functions in one line"
   ]
  },
  {
   "cell_type": "code",
   "execution_count": 16,
   "metadata": {},
   "outputs": [],
   "source": [
    "# get Sector、Industry、Investemnt Style、Beta\n",
    "\n",
    "# Overview、Key Ratios、Trading Information 都是同一個class同一頁面\n",
    "# 用指定的class找到目標element，再根據element的index找到對應的value\n",
    "\n",
    "def get_quote(code: str, module:str, driver: webdriver.edge.webdriver.WebDriver) -> pd.DataFrame:\n",
    "\n",
    "    # set the url\n",
    "    url = f'https://www.morningstar.com/stocks/{module}/{code}/quote'\n",
    "\n",
    "    # get into the url\n",
    "    driver.get(url)\n",
    "\n",
    "    # # get all information keys\n",
    "    # info_keys = driver.find_elements(\"css selector\", \".stock__quote-content-item-label\")\n",
    "    # # [:2] is Sector and Industry\n",
    "    # industries = driver.find_elements(\"css selector\", \".mdc-data-point.mdc-data-point--string\")\n",
    "    # # style only have one element\n",
    "    # target_span = driver.find_elements(\"css selector\", \".mdc-data-point.mdc-data-point--style-box\")\n",
    "    # # get the style\n",
    "    # style = ''.join(span.text for span in target_span if span.text != '')\n",
    "\n",
    "    # info_key = [info_key.text for info_key in info_keys]\n",
    "    # print(info_key)\n",
    "\n",
    "    # 等待目標元素出現\n",
    "    wait = WebDriverWait(driver, 10)\n",
    "    overview_button = wait.until(EC.presence_of_element_located((By.XPATH, \"//button[@data-testid='stock__quote-button-overview']\")))\n",
    "    keyratios_button = wait.until(EC.presence_of_element_located((By.XPATH, \"//button[@data-testid='stock__quote-button-keyRatios']\")))\n",
    "    tradinginfo_button = wait.until(EC.presence_of_element_located((By.XPATH, \"//button[@data-testid='stock__quote-button-tradingInformation']\")))\n",
    "\n",
    "    # 點擊 Overview 按鈕\n",
    "    overview_button.click()\n",
    "\n",
    "    # 等待 XHR 載入完成\n",
    "    overview_content = wait.until(EC.presence_of_element_located((By.XPATH, \"//button[@data-testid='stock__quote-button-overview']\")))\n",
    "\n"
   ]
  },
  {
   "cell_type": "code",
   "execution_count": 17,
   "metadata": {},
   "outputs": [
    {
     "name": "stdout",
     "output_type": "stream",
     "text": [
      "Overview\n"
     ]
    }
   ],
   "source": [
    "basic_info = get_quote(stock_code, module, driver)"
   ]
  }
 ],
 "metadata": {
  "kernelspec": {
   "display_name": "Python 3",
   "language": "python",
   "name": "python3"
  },
  "language_info": {
   "codemirror_mode": {
    "name": "ipython",
    "version": 3
   },
   "file_extension": ".py",
   "mimetype": "text/x-python",
   "name": "python",
   "nbconvert_exporter": "python",
   "pygments_lexer": "ipython3",
   "version": "3.11.0"
  },
  "orig_nbformat": 4
 },
 "nbformat": 4,
 "nbformat_minor": 2
}
